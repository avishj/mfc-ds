{
 "cells": [
  {
   "cell_type": "code",
   "execution_count": 43,
   "metadata": {},
   "outputs": [
    {
     "name": "stdout",
     "output_type": "stream",
     "text": [
      "Shape:   (4, 2)\n",
      "Dimesions:   2\n",
      "Size of an Element:   2\n"
     ]
    }
   ],
   "source": [
    "#Question 1\n",
    "import numpy as np\n",
    "a = np.array([[1, 2], [3, 4], [5, 6], [7, 8]], dtype = 'uint16')\n",
    "print(\"Shape:  \", np.shape(a))\n",
    "print(\"Dimesions:  \", np.ndim(a))\n",
    "print(\"Size of an Element:  \", a.itemsize)"
   ]
  },
  {
   "cell_type": "code",
   "execution_count": 44,
   "metadata": {},
   "outputs": [
    {
     "name": "stdout",
     "output_type": "stream",
     "text": [
      "[[100 110]\n",
      " [120 130]\n",
      " [140 150]\n",
      " [160 170]\n",
      " [180 190]]\n"
     ]
    }
   ],
   "source": [
    "#Question 2\n",
    "a = np.arange(100, 200, 10)\n",
    "a.shape = (5, 2) \n",
    "print(a)"
   ]
  },
  {
   "cell_type": "code",
   "execution_count": 32,
   "metadata": {},
   "outputs": [
    {
     "name": "stdout",
     "output_type": "stream",
     "text": [
      "Original Array\n",
      " [[11 22 33]\n",
      " [44 55 66]\n",
      " [77 88 99]]\n",
      "New Array\n",
      " [33 66 99]\n"
     ]
    }
   ],
   "source": [
    "#Question 3\n",
    "a = np.array([[11 ,22, 33], [44, 55, 66], [77, 88, 99]])\n",
    "print(\"Original Array\\n\", a)\n",
    "b = a[: , 2]\n",
    "print(\"New Array\\n\", b)"
   ]
  },
  {
   "cell_type": "code",
   "execution_count": 33,
   "metadata": {},
   "outputs": [
    {
     "name": "stdout",
     "output_type": "stream",
     "text": [
      "Original Array\n",
      " [[ 3  6  9 12]\n",
      " [15 18 21 24]\n",
      " [27 30 33 36]\n",
      " [39 42 45 48]\n",
      " [51 54 57 60]]\n",
      "New Array\n",
      " [[ 6 12]\n",
      " [30 36]\n",
      " [54 60]]\n"
     ]
    }
   ],
   "source": [
    "#Question 4\n",
    "a = np.array([[3 ,6, 9, 12], [15 ,18, 21, 24], [27 ,30, 33, 36], [39 ,42, 45, 48], [51 ,54, 57, 60]])\n",
    "print(\"Original Array\\n\", a)\n",
    "b = a[:: 2, 1 :: 2]\n",
    "print(\"New Array\\n\", b)"
   ]
  },
  {
   "cell_type": "code",
   "execution_count": 39,
   "metadata": {},
   "outputs": [
    {
     "name": "stdout",
     "output_type": "stream",
     "text": [
      "Array after addition\n",
      " [[20 39 33]\n",
      " [25 25 28]]\n",
      "Array after squaring\n",
      " [[ 400 1521 1089]\n",
      " [ 625  625  784]]\n"
     ]
    }
   ],
   "source": [
    "#Question 5\n",
    "a1 = np.array([[5, 6, 9], [21 ,18, 27]])\n",
    "a2 = np.array([[15 ,33, 24], [4 ,7, 1]])\n",
    "for i in range(2):\n",
    "    for j in range(3):\n",
    "        a1[i][j] += a2[i][j]\n",
    "print(\"Array after addition\\n\", a1)\n",
    "for i in range(2):\n",
    "    for j in range(3):\n",
    "        a1[i][j] *= a1[i][j]\n",
    "print(\"Array after squaring\\n\", a1)"
   ]
  },
  {
   "cell_type": "code",
   "execution_count": 53,
   "metadata": {},
   "outputs": [
    {
     "name": "stdout",
     "output_type": "stream",
     "text": [
      "Original Array\n",
      " [[34 43 73]\n",
      " [82 22 12]\n",
      " [53 94 66]]\n",
      "Array after sorting by 2nd Column\n",
      " [[82 22 12]\n",
      " [34 43 73]\n",
      " [53 94 66]]\n",
      "Array after sorting by 2nd Row\n",
      " [[82 22 12]\n",
      " [34 43 73]\n",
      " [53 94 66]]\n"
     ]
    }
   ],
   "source": [
    "#Ouestion 7\n",
    "a = np.array([[34,43,73],[82,22,12],[53,94,66]], dtype = 'i8')\n",
    "print(\"Original Array\\n\", a)\n",
    "a.view('i8,i8,i8').sort(order=['f1'], axis = 0)\n",
    "print(\"Array after sorting by 2nd Column\\n\", a)\n",
    "np.flip(a, 0)\n",
    "np.flip(a, 1)\n",
    "#Needs Fixing\n",
    "a.view('i8,i8,i8').sort(order=['f1'], axis = 0)\n",
    "print(\"Array after sorting by 2nd Row\\n\", a)"
   ]
  },
  {
   "cell_type": "code",
   "execution_count": 54,
   "metadata": {},
   "outputs": [],
   "source": [
    "#Pandas"
   ]
  },
  {
   "cell_type": "code",
   "execution_count": 1,
   "metadata": {},
   "outputs": [
    {
     "name": "stdout",
     "output_type": "stream",
     "text": [
      "          company    price\n",
      "35  mercedes-benz  45400.0\n"
     ]
    }
   ],
   "source": [
    "#Question 6\n",
    "import pandas as pd\n",
    "a = pd.read_csv('assignment-1-dataset.csv')\n",
    "a = a[['company', 'price']] [a.price == a['price'].max()]\n",
    "print(a)"
   ]
  },
  {
   "cell_type": "code",
   "execution_count": null,
   "metadata": {},
   "outputs": [],
   "source": [
    "#Question 7\n"
   ]
  },
  {
   "cell_type": "code",
   "execution_count": null,
   "metadata": {},
   "outputs": [],
   "source": [
    "#Question 8"
   ]
  },
  {
   "cell_type": "code",
   "execution_count": 2,
   "metadata": {},
   "outputs": [
    {
     "name": "stdout",
     "output_type": "stream",
     "text": [
      "    index        company body-style  wheel-base  length engine-type  \\\n",
      "13     16      chevrolet  hatchback        88.4   141.1           l   \n",
      "27     36          mazda  hatchback        93.1   159.1         ohc   \n",
      "48     66         toyota  hatchback        95.7   158.7         ohc   \n",
      "36     49     mitsubishi  hatchback        93.7   157.3         ohc   \n",
      "28     37          mazda  hatchback        93.1   159.1         ohc   \n",
      "..    ...            ...        ...         ...     ...         ...   \n",
      "11     14            bmw      sedan       103.5   193.8         ohc   \n",
      "35     47  mercedes-benz    hardtop       112.0   199.2        ohcv   \n",
      "22     31          isuzu      sedan        94.5   155.9         ohc   \n",
      "23     32          isuzu      sedan        94.5   155.9         ohc   \n",
      "47     63        porsche  hatchback        98.4   175.7       dohcv   \n",
      "\n",
      "   num-of-cylinders  horsepower  average-mileage    price  \n",
      "13            three          48               47   5151.0  \n",
      "27             four          68               30   5195.0  \n",
      "48             four          62               35   5348.0  \n",
      "36             four          68               37   5389.0  \n",
      "28             four          68               31   6095.0  \n",
      "..              ...         ...              ...      ...  \n",
      "11              six         182               16  41315.0  \n",
      "35            eight         184               14  45400.0  \n",
      "22             four          70               38      NaN  \n",
      "23             four          70               38      NaN  \n",
      "47            eight         288               17      NaN  \n",
      "\n",
      "[61 rows x 10 columns]\n"
     ]
    }
   ],
   "source": [
    "#Question 9\n",
    "a = pd.read_csv('assignment-1-dataset.csv')\n",
    "b = a.sort_values(by=[\"price\"])\n",
    "print(b)"
   ]
  },
  {
   "cell_type": "code",
   "execution_count": null,
   "metadata": {},
   "outputs": [],
   "source": [
    "#Question 10"
   ]
  }
 ],
 "metadata": {
  "kernelspec": {
   "display_name": "Python 3",
   "language": "python",
   "name": "python3"
  },
  "language_info": {
   "codemirror_mode": {
    "name": "ipython",
    "version": 3
   },
   "file_extension": ".py",
   "mimetype": "text/x-python",
   "name": "python",
   "nbconvert_exporter": "python",
   "pygments_lexer": "ipython3",
   "version": "3.8.2"
  }
 },
 "nbformat": 4,
 "nbformat_minor": 4
}
